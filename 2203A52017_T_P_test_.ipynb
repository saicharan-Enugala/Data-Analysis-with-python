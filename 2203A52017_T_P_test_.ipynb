{
  "nbformat": 4,
  "nbformat_minor": 0,
  "metadata": {
    "colab": {
      "provenance": [],
      "gpuType": "T4"
    },
    "kernelspec": {
      "name": "python3",
      "display_name": "Python 3"
    },
    "language_info": {
      "name": "python"
    },
    "accelerator": "GPU"
  },
  "cells": [
    {
      "cell_type": "code",
      "source": [
        "import pandas as pd\n",
        "import numpy as np\n",
        "from sklearn.model_selection import train_test_split\n",
        "from sklearn.preprocessing import StandardScaler, LabelEncoder\n",
        "from sklearn.linear_model import LogisticRegression\n",
        "from sklearn.ensemble import RandomForestClassifier\n",
        "from sklearn.svm import SVC\n",
        "from sklearn.metrics import accuracy_score, precision_score, recall_score, f1_score\n",
        "from sklearn.decomposition import PCA\n",
        "from scipy.statsc import ttest_1samp, chi2_contingency\n",
        "from statsmodels.stats.weightstats import ztest"
      ],
      "metadata": {
        "id": "BFymwrNZkYJR"
      },
      "execution_count": null,
      "outputs": []
    },
    {
      "cell_type": "code",
      "source": [
        "\n",
        "\n",
        "# Load dataset\n",
        "df = pd.read_csv(\"/content/Student_Mental_Stress_and_Coping_Mechanisms.csv\")\n",
        "\n",
        "# Drop irrelevant column\n",
        "df.drop(columns=['Student ID'], inplace=True)\n",
        "\n",
        "# Encode categorical variables\n",
        "encoder = LabelEncoder()\n",
        "categorical_cols = ['Gender', 'Counseling Attendance', 'Stress Coping Mechanisms', 'Family Mental Health History', 'Medical Condition']\n",
        "for col in categorical_cols:\n",
        "    df[col] = encoder.fit_transform(df[col])\n",
        "\n",
        "# Extract features and target variable\n",
        "X = df.drop(columns=['Mental Stress Level'])\n",
        "y = df['Mental Stress Level']\n"
      ],
      "metadata": {
        "id": "-WiWLSdBndT0"
      },
      "execution_count": null,
      "outputs": []
    },
    {
      "cell_type": "code",
      "source": [
        "\n",
        "# Convert target to binary classification (High/Low stress)\n",
        "y_binary = (y > y.median()).astype(int)\n",
        "\n",
        "# Split dataset into train-test sets\n",
        "X_train, X_test, y_train, y_test = train_test_split(X, y_binary, test_size=0.2, random_state=42)\n",
        "\n",
        "# Feature Scaling\n",
        "scaler = StandardScaler()\n",
        "X_train_scaled = scaler.fit_transform(X_train)\n",
        "X_test_scaled = scaler.transform(X_test)\n",
        "\n",
        "# Train Models\n",
        "models = {\n",
        "    'Logistic Regression': LogisticRegression(),\n",
        "    'Random Forest': RandomForestClassifier(),\n",
        "    'SVM': SVC()\n",
        "}\n",
        "\n",
        "# Evaluate Models\n",
        "results = {}\n",
        "for name, model in models.items():\n",
        "    model.fit(X_train_scaled, y_train)\n",
        "    y_pred = model.predict(X_test_scaled)\n",
        "    results[name] = {\n",
        "        'Accuracy': accuracy_score(y_test, y_pred),\n",
        "        'Precision': precision_score(y_test, y_pred),\n",
        "        'Recall': recall_score(y_test, y_pred),\n",
        "        'F1-score': f1_score(y_test, y_pred)\n",
        "    }\n",
        "\n",
        "# Feature Importance from Random Forest\n",
        "rf_model = RandomForestClassifier()\n",
        "rf_model.fit(X_train_scaled, y_train)\n",
        "feature_importance = pd.Series(rf_model.feature_importances_, index=X.columns).nlargest(3)\n",
        "\n",
        "# Apply PCA\n",
        "pca = PCA(n_components=2)\n",
        "X_pca = pca.fit_transform(X_train_scaled)\n",
        "\n",
        "# One-sample T-test (Hypothesis: Mean stress level = 5)\n",
        "t_stat, p_value_ttest = ttest_1samp(y, 5)\n",
        "\n",
        "# Z-test for study hours between counseling vs non-counseling\n",
        "group1 = df[df['Counseling Attendance'] == 1]['Study Hours Per Week']\n",
        "group2 = df[df['Counseling Attendance'] == 0]['Study Hours Per Week']\n",
        "z_stat, p_value_ztest = ztest(group1, group2)\n",
        "\n",
        "# Chi-square test for gender vs counseling attendance\n",
        "contingency_table = pd.crosstab(df['Gender'], df['Counseling Attendance'])\n",
        "chi2_stat, p_value_chi, _, _ = chi2_contingency(contingency_table)\n",
        "\n",
        "# Print Results\n",
        "print(\"Model Performance:\")\n",
        "for model, metrics in results.items():\n",
        "    print(f\"{model}: {metrics}\")\n",
        "\n",
        "print(\"\\nTop 3 Important Features:\")\n",
        "print(feature_importance)\n",
        "\n",
        "print(\"\\nT-test p-value:\", p_value_ttest)\n",
        "print(\"Interpretation:\", \"Significant\" if p_value_ttest < 0.05 else \"Not Significant\")\n",
        "\n",
        "print(\"\\nZ-test p-value:\", p_value_ztest)\n",
        "print(\"Interpretation:\", \"Significant\" if p_value_ztest < 0.05 else \"Not Significant\")\n",
        "\n",
        "print(\"\\nChi-square p-value:\", p_value_chi)\n",
        "print(\"Interpretation:\", \"Significant\" if p_value_chi < 0.05 else \"Not Significant\")\n"
      ],
      "metadata": {
        "colab": {
          "base_uri": "https://localhost:8080/"
        },
        "id": "kiBoGdyIqLcD",
        "outputId": "285c5ab9-52f7-448a-f035-2b794af45a12"
      },
      "execution_count": null,
      "outputs": [
        {
          "output_type": "stream",
          "name": "stdout",
          "text": [
            "Model Performance:\n",
            "Logistic Regression: {'Accuracy': 0.48026315789473684, 'Precision': 0.43283582089552236, 'Recall': 0.4142857142857143, 'F1-score': 0.4233576642335766}\n",
            "Random Forest: {'Accuracy': 0.5328947368421053, 'Precision': 0.49206349206349204, 'Recall': 0.44285714285714284, 'F1-score': 0.46616541353383456}\n",
            "SVM: {'Accuracy': 0.5263157894736842, 'Precision': 0.48214285714285715, 'Recall': 0.38571428571428573, 'F1-score': 0.42857142857142855}\n",
            "\n",
            "Top 3 Important Features:\n",
            "Study Hours Per Week                  0.126360\n",
            "Physical Exercise (Hours per week)    0.082319\n",
            "Social Media Usage (Hours per day)    0.076869\n",
            "dtype: float64\n",
            "\n",
            "T-test p-value: 0.0005939960520346076\n",
            "Interpretation: Significant\n",
            "\n",
            "Z-test p-value: 0.2395012959973023\n",
            "Interpretation: Not Significant\n",
            "\n",
            "Chi-square p-value: 0.25916012793906545\n",
            "Interpretation: Not Significant\n"
          ]
        }
      ]
    },
    {
      "cell_type": "code",
      "source": [],
      "metadata": {
        "id": "40npcGxxqmK3"
      },
      "execution_count": null,
      "outputs": []
    },
    {
      "cell_type": "code",
      "source": [],
      "metadata": {
        "id": "ABp9-B6Wds-b"
      },
      "execution_count": 4,
      "outputs": []
    },
    {
      "cell_type": "code",
      "source": [],
      "metadata": {
        "id": "Wo4bKeAZeFGT"
      },
      "execution_count": null,
      "outputs": []
    }
  ]
}