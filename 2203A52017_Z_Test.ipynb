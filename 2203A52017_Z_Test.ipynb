{
  "nbformat": 4,
  "nbformat_minor": 0,
  "metadata": {
    "colab": {
      "provenance": []
    },
    "kernelspec": {
      "name": "python3",
      "display_name": "Python 3"
    },
    "language_info": {
      "name": "python"
    }
  },
  "cells": [
    {
      "cell_type": "code",
      "execution_count": 2,
      "metadata": {
        "id": "pnAjfqvc5okt"
      },
      "outputs": [],
      "source": [
        "import pandas as pd\n",
        "import numpy as np\n",
        "import scipy.stats as stats\n",
        "from sklearn.model_selection import train_test_split\n",
        "from sklearn.preprocessing import StandardScaler, LabelEncoder\n",
        "from sklearn.linear_model import LogisticRegression\n",
        "from sklearn.tree import DecisionTreeClassifier\n",
        "from sklearn.ensemble import RandomForestClassifier, GradientBoostingClassifier\n",
        "from sklearn.svm import SVC\n",
        "from sklearn.neighbors import KNeighborsClassifier\n",
        "from sklearn.metrics import accuracy_score, precision_score, recall_score, confusion_matrix\n",
        "from statsmodels.stats.proportion import proportions_ztest\n",
        "\n",
        "# Load dataset\n",
        "df = pd.read_csv('/content/diabetes_data_upload.csv')\n",
        "\n",
        "# Encode categorical values\n",
        "le = LabelEncoder()\n",
        "for col in df.columns:\n",
        "    df[col] = le.fit_transform(df[col])\n",
        "\n",
        "# Split data into features and target\n",
        "X = df.drop(columns=['class'])  # Features\n",
        "y = df['class']  # Target\n"
      ]
    },
    {
      "cell_type": "code",
      "source": [
        "X,y"
      ],
      "metadata": {
        "colab": {
          "base_uri": "https://localhost:8080/"
        },
        "id": "uEj73hwF500S",
        "outputId": "49157e17-1cdc-41dd-ec27-1d2b19b7f318"
      },
      "execution_count": 5,
      "outputs": [
        {
          "output_type": "execute_result",
          "data": {
            "text/plain": [
              "(     Age  Gender  Polyuria  Polydipsia  sudden weight loss  weakness  \\\n",
              " 0     16       1         0           1                   0         1   \n",
              " 1     34       1         0           0                   0         1   \n",
              " 2     17       1         1           0                   0         1   \n",
              " 3     21       1         0           0                   1         1   \n",
              " 4     36       1         1           1                   1         1   \n",
              " ..   ...     ...       ...         ...                 ...       ...   \n",
              " 515   15       0         1           1                   1         0   \n",
              " 516   24       0         1           1                   1         1   \n",
              " 517   34       0         1           1                   1         1   \n",
              " 518    8       0         0           0                   0         1   \n",
              " 519   18       1         0           0                   0         0   \n",
              " \n",
              "      Polyphagia  Genital thrush  visual blurring  Itching  Irritability  \\\n",
              " 0             0               0                0        1             0   \n",
              " 1             0               0                1        0             0   \n",
              " 2             1               0                0        1             0   \n",
              " 3             1               1                0        1             0   \n",
              " 4             1               0                1        1             1   \n",
              " ..          ...             ...              ...      ...           ...   \n",
              " 515           1               0                0        1             0   \n",
              " 516           1               0                0        1             1   \n",
              " 517           1               0                1        0             0   \n",
              " 518           0               0                1        1             0   \n",
              " 519           0               0                0        0             0   \n",
              " \n",
              "      delayed healing  partial paresis  muscle stiffness  Alopecia  Obesity  \n",
              " 0                  1                0                 1         1        1  \n",
              " 1                  0                1                 0         1        0  \n",
              " 2                  1                0                 1         1        0  \n",
              " 3                  1                0                 0         0        0  \n",
              " 4                  1                1                 1         1        1  \n",
              " ..               ...              ...               ...       ...      ...  \n",
              " 515                1                1                 0         0        0  \n",
              " 516                1                1                 0         0        0  \n",
              " 517                0                1                 1         0        1  \n",
              " 518                1                0                 0         1        0  \n",
              " 519                0                0                 0         0        0  \n",
              " \n",
              " [520 rows x 16 columns],\n",
              " 0      1\n",
              " 1      1\n",
              " 2      1\n",
              " 3      1\n",
              " 4      1\n",
              "       ..\n",
              " 515    1\n",
              " 516    1\n",
              " 517    1\n",
              " 518    0\n",
              " 519    0\n",
              " Name: class, Length: 520, dtype: int64)"
            ]
          },
          "metadata": {},
          "execution_count": 5
        }
      ]
    },
    {
      "cell_type": "code",
      "source": [
        "\n",
        "# Split into training and testing sets\n",
        "X_train, X_test, y_train, y_test = train_test_split(X, y, test_size=0.2, random_state=42)\n",
        "\n",
        "# Standardize features\n",
        "scaler = StandardScaler()\n",
        "X_train = scaler.fit_transform(X_train)\n",
        "X_test = scaler.transform(X_test)\n"
      ],
      "metadata": {
        "id": "nZs1QDOt54_9"
      },
      "execution_count": 6,
      "outputs": []
    },
    {
      "cell_type": "code",
      "source": [
        "\n",
        "### 1. Train Logistic Regression, Decision Tree, and Random Forest ###\n",
        "models = {\n",
        "    'Logistic Regression': LogisticRegression(),\n",
        "    'Decision Tree': DecisionTreeClassifier(),\n",
        "    'Random Forest': RandomForestClassifier()\n",
        "}\n",
        "\n",
        "results = {}\n",
        "for name, model in models.items():\n",
        "    model.fit(X_train, y_train)\n",
        "    y_pred = model.predict(X_test)\n",
        "    tn, fp, fn, tp = confusion_matrix(y_test, y_pred).ravel()\n",
        "    results[name] = {\n",
        "        'Accuracy': accuracy_score(y_test, y_pred),\n",
        "        'Precision': precision_score(y_test, y_pred),\n",
        "        'Recall': recall_score(y_test, y_pred),\n",
        "        'False Negative Rate (Type II Error)': fn / (fn + tp)\n",
        "    }\n",
        "\n",
        "# Find model with lowest Type II Error\n",
        "best_model = min(results, key=lambda x: results[x]['False Negative Rate (Type II Error)'])\n",
        "print(f'Best model for diabetes detection (low Type II error): {best_model}\\n', results)\n"
      ],
      "metadata": {
        "colab": {
          "base_uri": "https://localhost:8080/"
        },
        "id": "kSsULcE95_iz",
        "outputId": "9541f328-c5ff-4cb3-9c95-8ac3b50c8ef2"
      },
      "execution_count": 7,
      "outputs": [
        {
          "output_type": "stream",
          "name": "stdout",
          "text": [
            "Best model for diabetes detection (low Type II error): Random Forest\n",
            " {'Logistic Regression': {'Accuracy': 0.9230769230769231, 'Precision': 0.9315068493150684, 'Recall': 0.9577464788732394, 'False Negative Rate (Type II Error)': np.float64(0.04225352112676056)}, 'Decision Tree': {'Accuracy': 0.9519230769230769, 'Precision': 0.9852941176470589, 'Recall': 0.9436619718309859, 'False Negative Rate (Type II Error)': np.float64(0.056338028169014086)}, 'Random Forest': {'Accuracy': 0.9903846153846154, 'Precision': 1.0, 'Recall': 0.9859154929577465, 'False Negative Rate (Type II Error)': np.float64(0.014084507042253521)}}\n"
          ]
        }
      ]
    },
    {
      "cell_type": "code",
      "source": [
        "\n",
        "### 2. Z-Test: Mean Age of Correctly vs. Misclassified Diabetic Patients ###\n",
        "y_pred_logistic = LogisticRegression().fit(X_train, y_train).predict(X_test)\n",
        "correct_indices = np.where(y_pred_logistic == y_test)[0]\n",
        "incorrect_indices = np.where(y_pred_logistic != y_test)[0]\n",
        "\n",
        "test_stat, p_value = stats.ttest_ind(X_test[correct_indices, 0], X_test[incorrect_indices, 0], equal_var=False)\n",
        "print(f'Z-Test on mean age: p-value = {p_value}')\n",
        "if p_value < 0.05:\n",
        "    print(\"Significant difference in mean age of correctly vs. misclassified cases.\")\n"
      ],
      "metadata": {
        "colab": {
          "base_uri": "https://localhost:8080/"
        },
        "id": "DhypECpk6PuR",
        "outputId": "de092a90-0613-4a50-c1b8-2a2519a43c3f"
      },
      "execution_count": 8,
      "outputs": [
        {
          "output_type": "stream",
          "name": "stdout",
          "text": [
            "Z-Test on mean age: p-value = 0.00023728463474212143\n",
            "Significant difference in mean age of correctly vs. misclassified cases.\n"
          ]
        }
      ]
    },
    {
      "cell_type": "code",
      "source": [
        "\n",
        "### 3. Type I Error Analysis for Random Forest ###\n",
        "y_pred_rf = RandomForestClassifier().fit(X_train, y_train).predict(X_test)\n",
        "tn, fp, fn, tp = confusion_matrix(y_test, y_pred_rf).ravel()\n",
        "false_positive_rate = fp / (fp + tn)\n",
        "if false_positive_rate > 0.2:\n",
        "    z_stat, p_val = stats.norm.cdf(false_positive_rate, loc=0.2, scale=np.std(false_positive_rate))\n",
        "    print(f'One-Sample Z-Test for FPR > 20%: p-value = {p_val}')\n"
      ],
      "metadata": {
        "id": "AzpuECut6Ufr"
      },
      "execution_count": 9,
      "outputs": []
    },
    {
      "cell_type": "code",
      "source": [
        "\n",
        "### 4. Compare Type II Errors of SVM, KNN, and Logistic Regression ###\n",
        "models_2 = {\n",
        "    'SVM': SVC(),\n",
        "    'KNN': KNeighborsClassifier(),\n",
        "    'Logistic Regression': LogisticRegression()\n",
        "}\n",
        "\n",
        "fn_rates = {}\n",
        "for name, model in models_2.items():\n",
        "    model.fit(X_train, y_train)\n",
        "    y_pred = model.predict(X_test)\n",
        "    tn, fp, fn, tp = confusion_matrix(y_test, y_pred).ravel()\n",
        "    fn_rates[name] = fn / (fn + tp)\n",
        "\n",
        "# Get false negatives and total positives for SVM and Logistic Regression\n",
        "fn_svm = fn_rates['SVM'] * (y_test == 1).sum()\n",
        "fn_lr = fn_rates['Logistic Regression'] * (y_test == 1).sum()\n",
        "total_pos = (y_test == 1).sum()\n",
        "\n",
        "# Perform Z-Test for proportions\n",
        "count = [fn_svm, fn_lr]\n",
        "nobs = [total_pos, total_pos]  # Total number of actual positive cases\n",
        "\n",
        "z_stat, p_value = proportions_ztest(count, nobs, alternative='two-sided')\n",
        "\n",
        "print(f'Z-Test on Type II Error Rates: Z-Statistic = {z_stat:.4f}, p-value = {p_value:.4f}')\n",
        "\n"
      ],
      "metadata": {
        "colab": {
          "base_uri": "https://localhost:8080/"
        },
        "id": "yEpjc0306X_F",
        "outputId": "e4a078d4-c871-4b8b-eb31-aaad938c7dd5"
      },
      "execution_count": 15,
      "outputs": [
        {
          "output_type": "stream",
          "name": "stdout",
          "text": [
            "Z-Test on Type II Error Rates: Z-Statistic = -1.7506, p-value = 0.0800\n"
          ]
        }
      ]
    },
    {
      "cell_type": "code",
      "source": [
        "\n",
        "### 5. Gradient Boosting Model Misclassification Analysis ###\n",
        "y_pred_gbm = GradientBoostingClassifier().fit(X_train, y_train).predict(X_test)\n",
        "correct_indices_gbm = np.where(y_pred_gbm == y_test)[0]\n",
        "incorrect_indices_gbm = np.where(y_pred_gbm != y_test)[0]\n",
        "\n",
        "test_stat_gbm, p_value_gbm = stats.ttest_ind(X_test[correct_indices_gbm, 0], X_test[incorrect_indices_gbm, 0], equal_var=False)\n",
        "print(f'Gradient Boosting Z-Test on mean age: p-value = {p_value_gbm}')\n"
      ],
      "metadata": {
        "colab": {
          "base_uri": "https://localhost:8080/"
        },
        "id": "FQjnQsQ86aTy",
        "outputId": "f525a7df-dfa6-440c-e685-d0af52ff6dc0"
      },
      "execution_count": 16,
      "outputs": [
        {
          "output_type": "stream",
          "name": "stdout",
          "text": [
            "Gradient Boosting Z-Test on mean age: p-value = 0.1998955572525326\n"
          ]
        }
      ]
    },
    {
      "cell_type": "code",
      "source": [
        "\n",
        "## 6. Compare Three Models on Type I & II Errors ###\n",
        "\n",
        "from statsmodels.stats.proportion import proportions_ztest\n",
        "\n",
        "final_models = {\n",
        "    'Logistic Regression': LogisticRegression(),\n",
        "    'SVM': SVC(),\n",
        "    'Random Forest': RandomForestClassifier()\n",
        "}\n",
        "\n",
        "errors = {}\n",
        "\n",
        "for name, model in final_models.items():\n",
        "    model.fit(X_train, y_train)\n",
        "    y_pred = model.predict(X_test)\n",
        "    tn, fp, fn, tp = confusion_matrix(y_test, y_pred).ravel()\n",
        "    errors[name] = {\n",
        "        'Type I Error': fp / (fp + tn),\n",
        "        'Type II Error': fn / (fn + tp),\n",
        "        'False Positives': fp,\n",
        "        'False Negatives': fn,\n",
        "        'Total Negatives': (y_test == 0).sum(),\n",
        "        'Total Positives': (y_test == 1).sum()\n",
        "    }\n",
        "\n",
        "# Z-Test for Type I Errors (False Positives)\n",
        "count_type1 = [errors['Logistic Regression']['False Positives'], errors['Random Forest']['False Positives']]\n",
        "nobs_type1 = [errors['Logistic Regression']['Total Negatives'], errors['Random Forest']['Total Negatives']]\n",
        "\n",
        "z_stat_type1, p_value_type1 = proportions_ztest(count_type1, nobs_type1, alternative='two-sided')\n",
        "print(f'Z-Test on Type I Errors: Z-Statistic = {z_stat_type1:.4f}, p-value = {p_value_type1:.4f}')\n",
        "\n",
        "# Z-Test for Type II Errors (False Negatives)\n",
        "count_type2 = [errors['SVM']['False Negatives'], errors['Random Forest']['False Negatives']]\n",
        "nobs_type2 = [errors['SVM']['Total Positives'], errors['Random Forest']['Total Positives']]\n",
        "\n",
        "z_stat_type2, p_value_type2 = proportions_ztest(count_type2, nobs_type2, alternative='two-sided')\n",
        "print(f'Z-Test on Type II Errors: Z-Statistic = {z_stat_type2:.4f}, p-value = {p_value_type2:.4f}')\n",
        "\n",
        "print(\"Final Model Selection Based on Statistical Analysis\")\n"
      ],
      "metadata": {
        "colab": {
          "base_uri": "https://localhost:8080/"
        },
        "id": "t65k2qHE6d64",
        "outputId": "5bf8ffe4-87e5-4a53-b54d-3058fe449fe8"
      },
      "execution_count": 17,
      "outputs": [
        {
          "output_type": "stream",
          "name": "stdout",
          "text": [
            "Z-Test on Type I Errors: Z-Statistic = 2.3259, p-value = 0.0200\n",
            "Z-Test on Type II Errors: Z-Statistic = -1.0035, p-value = 0.3156\n",
            "Final Model Selection Based on Statistical Analysis\n"
          ]
        }
      ]
    },
    {
      "cell_type": "code",
      "source": [],
      "metadata": {
        "id": "SPcq_B336ew2"
      },
      "execution_count": null,
      "outputs": []
    }
  ]
}